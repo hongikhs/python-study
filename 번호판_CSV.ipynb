{
 "cells": [
  {
   "cell_type": "markdown",
   "metadata": {},
   "source": [
    "# 중복제거-집합개념 사용(set)"
   ]
  },
  {
   "cell_type": "code",
   "execution_count": 1,
   "metadata": {},
   "outputs": [
    {
     "name": "stdout",
     "output_type": "stream",
     "text": [
      "['a', 'b', 'c', 'd', 'a', 'b']\n",
      "['d', 'b', 'c', 'a']\n"
     ]
    }
   ],
   "source": [
    "#리스트 생성과 확인\n",
    "li = [\"a\",\"b\",\"c\",\"d\",\"a\",\"b\"]\n",
    "print(li)\n",
    "#리스트에 중복 아이템 제거, 순서는 고려되지 않음\n",
    "li = list(set(li))\n",
    "print(li)"
   ]
  },
  {
   "cell_type": "markdown",
   "metadata": {},
   "source": [
    "# 중복된 개수 count 사용"
   ]
  },
  {
   "cell_type": "code",
   "execution_count": 2,
   "metadata": {},
   "outputs": [
    {
     "name": "stdout",
     "output_type": "stream",
     "text": [
      "[1, 2, 3, 4, 1, 4, 1]\n",
      "Counter({1: 3, 4: 2, 2: 1, 3: 1})\n"
     ]
    }
   ],
   "source": [
    "from collections import Counter\n",
    "\n",
    "#리스트생성\n",
    "List = [1,2,3,4,1,4,1]\n",
    "print(List)\n",
    "\n",
    "#중복된 개수, 순서는 고려되지 않음\n",
    "result =Counter(List)\n",
    "print(result)"
   ]
  },
  {
   "cell_type": "markdown",
   "metadata": {},
   "source": [
    "# 예시답안"
   ]
  },
  {
   "cell_type": "code",
   "execution_count": 3,
   "metadata": {},
   "outputs": [
    {
     "name": "stdout",
     "output_type": "stream",
     "text": [
      "43028\n",
      "*********** 1순위 차량은 1대 ***********\n",
      "['6', '0', '두', '7', '6', '6', '9', '\\n']\n",
      "*********** 2순위차량은 3대 ***********\n",
      "['5', '5', '소', '3', '9', '8', '5', '\\n', '3', '4', '러', '3', '9', '3', '5', '\\n', '2', '6', '모', '4', '6', '8', '9', '\\n']\n",
      "*********** 3순위차량은 8대 ***********\n",
      "['9', '4', '라', '9', '9', '4', '9', '\\n', '7', '1', '허', '2', '8', '5', '1', '\\n', '5', '2', '조', '6', '6', '9', '7', '\\n', '6', '8', '머', '1', '0', '6', '9', '\\n', '8', '3', '너', '1', '4', '7', '9', '\\n', '6', '3', '라', '2', '5', '1', '4', '\\n', '4', '3', '나', '7', '6', '9', '5', '\\n', '6', '8', '머', '9', '7', '7', '1', '\\n']\n",
      "강력2팀의 인원수는?4\n",
      "검거에는 최대6.0일 소요된다.\n"
     ]
    },
    {
     "data": {
      "image/png": "[encoded data removed]",
      "text/plain": [
       "<matplotlib.figure.Figure at 0x243c17c5a20>"
      ]
     },
     "metadata": {},
     "output_type": "display_data"
    },
    {
     "data": {
      "image/png": "[encoded data removed]",
      "text/plain": [
       "<matplotlib.figure.Figure at 0x243c1d2ce10>"
      ]
     },
     "metadata": {},
     "output_type": "display_data"
    }
   ],
   "source": [
    "from collections import Counter\n",
    "import matplotlib.pyplot as plt\n",
    "import csv\n",
    "경기광주 = csv.reader(open('경기광주.csv'))\n",
    "경주 = csv.reader(open('경주.csv'))\n",
    "곤지암 = csv.reader(open('곤지암.csv'))\n",
    "충주 = csv.reader(open('충주.csv'))\n",
    "\n",
    "#CSV파일 집합으로 표현하기\n",
    "경기광주_중복제거 = set()\n",
    "for item in list(경기광주):\n",
    "    경기광주_중복제거.add(item[0])\n",
    "경주_중복제거 = set()\n",
    "for item in list(경주):\n",
    "    경주_중복제거.add(item[0])\n",
    "곤지암_중복제거 = set()\n",
    "for item in list(곤지암):\n",
    "    곤지암_중복제거.add(item[0])\n",
    "충주_중복제거 = set()\n",
    "for item in list(충주):\n",
    "    충주_중복제거.add(item[0])    \n",
    "\n",
    "#전체리스트\n",
    "전체리스트 = list(경기광주_중복제거) + list(경주_중복제거) + list(곤지암_중복제거) + list(충주_중복제거)\n",
    "\n",
    "#중복되는 차량의 개수 구하기\n",
    "통과수 = Counter(전체리스트)\n",
    "\n",
    "순위1=[]\n",
    "순위2=[]\n",
    "순위3=[]\n",
    "\n",
    "c1=c2=c3=0\n",
    "\n",
    "for row in 통과수 :\n",
    "    if 통과수[row] == 4:\n",
    "        순위1.extend(row+'\\n')\n",
    "        c1 = c1 + 1\n",
    "    if 통과수[row] == 3:\n",
    "        순위2.extend(row+'\\n')\n",
    "        c2= c2 + 1\n",
    "    if 통과수[row] == 2:\n",
    "        순위3.extend(row+'\\n')\n",
    "        c3 = c3 + 1\n",
    "        \n",
    "print(\"*********** 1순위 차량은 \" + str(c1) + \"대 ***********\")\n",
    "print(순위1)\n",
    "print(\"*********** 2순위차량은 \" + str(c2) + \"대 ***********\")\n",
    "print(순위2)\n",
    "print(\"*********** 3순위차량은 \" + str(c3) + \"대 ***********\")\n",
    "print(순위3)\n",
    "    \n",
    "num = input(\"강력2팀의 인원수는?\")\n",
    "days = (c1+c2+c3)/(int(num)/2)\n",
    "print(\"검거에는 최대\" + str(days) + \"일 소요된다.\")\n",
    "\n",
    "x = range(4,13)\n",
    "y = []\n",
    "for i in x:\n",
    "    y.append((c1+c2+c3)/(int(i)/2))\n",
    "\n",
    "plt.rc('font', family= 'Malgun Gothic')\n",
    "\n",
    "plt.plot(x,y)\n",
    "plt.title('강력2팀 인원수 대비 검거소요일')\n",
    "plt.xlabel('인원수')\n",
    "plt.ylabel('검거소요일')\n",
    "plt.show()\n",
    "\n",
    "plt.plot([2,3,4,6],[100,70,50,30],'r')\n",
    "plt.title('검거소요일 대비 치안만족도')\n",
    "plt.xlabel('검거소요일')\n",
    "plt.ylabel('치안만족도')\n",
    "\n",
    "plt.show() "
   ]
  },
  {
   "cell_type": "code",
   "execution_count": null,
   "metadata": {
    "collapsed": true
   },
   "outputs": [],
   "source": []
  }
 ],
 "metadata": {
  "kernelspec": {
   "display_name": "Python 3",
   "language": "python",
   "name": "python3"
  },
  "language_info": {
   "codemirror_mode": {
    "name": "ipython",
    "version": 3
   },
   "file_extension": ".py",
   "mimetype": "text/x-python",
   "name": "python",
   "nbconvert_exporter": "python",
   "pygments_lexer": "ipython3",
   "version": "3.6.1"
  }
 },
 "nbformat": 4,
 "nbformat_minor": 2
}
